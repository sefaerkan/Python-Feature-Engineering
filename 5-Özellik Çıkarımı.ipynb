{
 "cells": [
  {
   "cell_type": "code",
   "execution_count": null,
   "id": "96a1b2e6",
   "metadata": {},
   "outputs": [],
   "source": [
    "# Özellik Çıkarımı ( Feature Extraction )\n",
    "# Ham veriden değişken üretmek"
   ]
  },
  {
   "cell_type": "code",
   "execution_count": 1,
   "id": "c199818d",
   "metadata": {},
   "outputs": [],
   "source": [
    "# 1 - Binary Features: Flag, Bool, True-False "
   ]
  },
  {
   "cell_type": "code",
   "execution_count": 2,
   "id": "38f48417",
   "metadata": {},
   "outputs": [],
   "source": [
    "import pandas as pd\n",
    "\n",
    "def load():\n",
    "    data = pd.read_csv(\"titanic.csv\")\n",
    "    return data\n",
    "\n",
    "df = load()"
   ]
  },
  {
   "cell_type": "code",
   "execution_count": 3,
   "id": "252c9a2e",
   "metadata": {},
   "outputs": [],
   "source": [
    "# Dolu mu diye sorup çıkan değerleri 1 ve 0 ile yeni değişkene atıyor\n",
    "df[\"NEW_CABIN_BOOL\"] = df[\"Cabin\"].notnull().astype(\"int\")"
   ]
  },
  {
   "cell_type": "code",
   "execution_count": 5,
   "id": "cb3f53f4",
   "metadata": {
    "collapsed": true
   },
   "outputs": [
    {
     "data": {
      "text/html": [
       "<div>\n",
       "<style scoped>\n",
       "    .dataframe tbody tr th:only-of-type {\n",
       "        vertical-align: middle;\n",
       "    }\n",
       "\n",
       "    .dataframe tbody tr th {\n",
       "        vertical-align: top;\n",
       "    }\n",
       "\n",
       "    .dataframe thead th {\n",
       "        text-align: right;\n",
       "    }\n",
       "</style>\n",
       "<table border=\"1\" class=\"dataframe\">\n",
       "  <thead>\n",
       "    <tr style=\"text-align: right;\">\n",
       "      <th></th>\n",
       "      <th>Survived</th>\n",
       "    </tr>\n",
       "    <tr>\n",
       "      <th>NEW_CABIN_BOOL</th>\n",
       "      <th></th>\n",
       "    </tr>\n",
       "  </thead>\n",
       "  <tbody>\n",
       "    <tr>\n",
       "      <th>0</th>\n",
       "      <td>0.299854</td>\n",
       "    </tr>\n",
       "    <tr>\n",
       "      <th>1</th>\n",
       "      <td>0.666667</td>\n",
       "    </tr>\n",
       "  </tbody>\n",
       "</table>\n",
       "</div>"
      ],
      "text/plain": [
       "                Survived\n",
       "NEW_CABIN_BOOL          \n",
       "0               0.299854\n",
       "1               0.666667"
      ]
     },
     "execution_count": 5,
     "metadata": {},
     "output_type": "execute_result"
    }
   ],
   "source": [
    "# Kabin numarası olanlar daha çok hayatta kalmış\n",
    "df.groupby(\"NEW_CABIN_BOOL\").agg({\"Survived\":\"mean\"})"
   ]
  },
  {
   "cell_type": "code",
   "execution_count": 7,
   "id": "0c429f3d",
   "metadata": {},
   "outputs": [
    {
     "name": "stdout",
     "output_type": "stream",
     "text": [
      "Test stat =  9.4597, p-value = 0.0000\n"
     ]
    }
   ],
   "source": [
    "from statsmodels.stats.proportion import proportions_ztest\n",
    "\n",
    "test_stat, pvalue = proportions_ztest(count=[df.loc[df[\"NEW_CABIN_BOOL\"] == 1, \"Survived\"].sum(),\n",
    "                                             df.loc[df[\"NEW_CABIN_BOOL\"] == 0, \"Survived\"].sum()],\n",
    "                                      \n",
    "                                      nobs= [df.loc[df[\"NEW_CABIN_BOOL\"] == 1, \"Survived\"].shape[0],\n",
    "                                             df.loc[df[\"NEW_CABIN_BOOL\"] == 0, \"Survived\"].shape[0]])\n",
    "print(\"Test stat = % .4f, p-value = %.4f\" % (test_stat,pvalue))\n",
    "\n",
    "# p-value 0.5'ten küçük yani kabin numarası olanlar ile olmayanlar arasında fark var."
   ]
  },
  {
   "cell_type": "code",
   "execution_count": 8,
   "id": "fb396fd3",
   "metadata": {
    "collapsed": true
   },
   "outputs": [
    {
     "data": {
      "text/html": [
       "<div>\n",
       "<style scoped>\n",
       "    .dataframe tbody tr th:only-of-type {\n",
       "        vertical-align: middle;\n",
       "    }\n",
       "\n",
       "    .dataframe tbody tr th {\n",
       "        vertical-align: top;\n",
       "    }\n",
       "\n",
       "    .dataframe thead th {\n",
       "        text-align: right;\n",
       "    }\n",
       "</style>\n",
       "<table border=\"1\" class=\"dataframe\">\n",
       "  <thead>\n",
       "    <tr style=\"text-align: right;\">\n",
       "      <th></th>\n",
       "      <th>Survived</th>\n",
       "    </tr>\n",
       "    <tr>\n",
       "      <th>NEW_IS_ALONE</th>\n",
       "      <th></th>\n",
       "    </tr>\n",
       "  </thead>\n",
       "  <tbody>\n",
       "    <tr>\n",
       "      <th>NO</th>\n",
       "      <td>0.505650</td>\n",
       "    </tr>\n",
       "    <tr>\n",
       "      <th>YES</th>\n",
       "      <td>0.303538</td>\n",
       "    </tr>\n",
       "  </tbody>\n",
       "</table>\n",
       "</div>"
      ],
      "text/plain": [
       "              Survived\n",
       "NEW_IS_ALONE          \n",
       "NO            0.505650\n",
       "YES           0.303538"
      ]
     },
     "execution_count": 8,
     "metadata": {},
     "output_type": "execute_result"
    }
   ],
   "source": [
    "# İki değişkeni toplayarak yeni bir değişkene atadık ve hayatta kalma oranlarına baktık.\n",
    "df.loc[((df[\"SibSp\"] + df[\"Parch\"])>0), \"NEW_IS_ALONE\"] = \"NO\"\n",
    "df.loc[((df[\"SibSp\"] + df[\"Parch\"]) == 0), \"NEW_IS_ALONE\"] = \"YES\"\n",
    "\n",
    "df.groupby(\"NEW_IS_ALONE\").agg({\"Survived\":\"mean\"})"
   ]
  },
  {
   "cell_type": "code",
   "execution_count": null,
   "id": "640ec4b3",
   "metadata": {},
   "outputs": [],
   "source": [
    "# ---------------------------------------------------------------- #"
   ]
  },
  {
   "cell_type": "code",
   "execution_count": 10,
   "id": "47b16671",
   "metadata": {},
   "outputs": [],
   "source": [
    "# 2 - Text Features -> Text'ler üzerinden özellik türetmek\n",
    "df = load()"
   ]
  },
  {
   "cell_type": "code",
   "execution_count": 12,
   "id": "2ed173a2",
   "metadata": {},
   "outputs": [],
   "source": [
    "# Letter Count -> Harf\n",
    "df[\"NEW_NAME_COUNT\"] = df[\"Name\"].str.len()"
   ]
  },
  {
   "cell_type": "code",
   "execution_count": 15,
   "id": "d8bad6f6",
   "metadata": {
    "collapsed": true
   },
   "outputs": [
    {
     "data": {
      "text/html": [
       "<div>\n",
       "<style scoped>\n",
       "    .dataframe tbody tr th:only-of-type {\n",
       "        vertical-align: middle;\n",
       "    }\n",
       "\n",
       "    .dataframe tbody tr th {\n",
       "        vertical-align: top;\n",
       "    }\n",
       "\n",
       "    .dataframe thead th {\n",
       "        text-align: right;\n",
       "    }\n",
       "</style>\n",
       "<table border=\"1\" class=\"dataframe\">\n",
       "  <thead>\n",
       "    <tr style=\"text-align: right;\">\n",
       "      <th></th>\n",
       "      <th>PassengerId</th>\n",
       "      <th>Survived</th>\n",
       "      <th>Pclass</th>\n",
       "      <th>Name</th>\n",
       "      <th>Sex</th>\n",
       "      <th>Age</th>\n",
       "      <th>SibSp</th>\n",
       "      <th>Parch</th>\n",
       "      <th>Ticket</th>\n",
       "      <th>Fare</th>\n",
       "      <th>Cabin</th>\n",
       "      <th>Embarked</th>\n",
       "      <th>NEW_NAME_COUNT</th>\n",
       "      <th>NEW_NAME_WORD_COUNT</th>\n",
       "    </tr>\n",
       "  </thead>\n",
       "  <tbody>\n",
       "    <tr>\n",
       "      <th>0</th>\n",
       "      <td>1</td>\n",
       "      <td>0</td>\n",
       "      <td>3</td>\n",
       "      <td>Braund, Mr. Owen Harris</td>\n",
       "      <td>male</td>\n",
       "      <td>22.0</td>\n",
       "      <td>1</td>\n",
       "      <td>0</td>\n",
       "      <td>A/5 21171</td>\n",
       "      <td>7.2500</td>\n",
       "      <td>NaN</td>\n",
       "      <td>S</td>\n",
       "      <td>23</td>\n",
       "      <td>4</td>\n",
       "    </tr>\n",
       "    <tr>\n",
       "      <th>1</th>\n",
       "      <td>2</td>\n",
       "      <td>1</td>\n",
       "      <td>1</td>\n",
       "      <td>Cumings, Mrs. John Bradley (Florence Briggs Th...</td>\n",
       "      <td>female</td>\n",
       "      <td>38.0</td>\n",
       "      <td>1</td>\n",
       "      <td>0</td>\n",
       "      <td>PC 17599</td>\n",
       "      <td>71.2833</td>\n",
       "      <td>C85</td>\n",
       "      <td>C</td>\n",
       "      <td>51</td>\n",
       "      <td>7</td>\n",
       "    </tr>\n",
       "    <tr>\n",
       "      <th>2</th>\n",
       "      <td>3</td>\n",
       "      <td>1</td>\n",
       "      <td>3</td>\n",
       "      <td>Heikkinen, Miss. Laina</td>\n",
       "      <td>female</td>\n",
       "      <td>26.0</td>\n",
       "      <td>0</td>\n",
       "      <td>0</td>\n",
       "      <td>STON/O2. 3101282</td>\n",
       "      <td>7.9250</td>\n",
       "      <td>NaN</td>\n",
       "      <td>S</td>\n",
       "      <td>22</td>\n",
       "      <td>3</td>\n",
       "    </tr>\n",
       "    <tr>\n",
       "      <th>3</th>\n",
       "      <td>4</td>\n",
       "      <td>1</td>\n",
       "      <td>1</td>\n",
       "      <td>Futrelle, Mrs. Jacques Heath (Lily May Peel)</td>\n",
       "      <td>female</td>\n",
       "      <td>35.0</td>\n",
       "      <td>1</td>\n",
       "      <td>0</td>\n",
       "      <td>113803</td>\n",
       "      <td>53.1000</td>\n",
       "      <td>C123</td>\n",
       "      <td>S</td>\n",
       "      <td>44</td>\n",
       "      <td>7</td>\n",
       "    </tr>\n",
       "    <tr>\n",
       "      <th>4</th>\n",
       "      <td>5</td>\n",
       "      <td>0</td>\n",
       "      <td>3</td>\n",
       "      <td>Allen, Mr. William Henry</td>\n",
       "      <td>male</td>\n",
       "      <td>35.0</td>\n",
       "      <td>0</td>\n",
       "      <td>0</td>\n",
       "      <td>373450</td>\n",
       "      <td>8.0500</td>\n",
       "      <td>NaN</td>\n",
       "      <td>S</td>\n",
       "      <td>24</td>\n",
       "      <td>4</td>\n",
       "    </tr>\n",
       "  </tbody>\n",
       "</table>\n",
       "</div>"
      ],
      "text/plain": [
       "   PassengerId  Survived  Pclass  \\\n",
       "0            1         0       3   \n",
       "1            2         1       1   \n",
       "2            3         1       3   \n",
       "3            4         1       1   \n",
       "4            5         0       3   \n",
       "\n",
       "                                                Name     Sex   Age  SibSp  \\\n",
       "0                            Braund, Mr. Owen Harris    male  22.0      1   \n",
       "1  Cumings, Mrs. John Bradley (Florence Briggs Th...  female  38.0      1   \n",
       "2                             Heikkinen, Miss. Laina  female  26.0      0   \n",
       "3       Futrelle, Mrs. Jacques Heath (Lily May Peel)  female  35.0      1   \n",
       "4                           Allen, Mr. William Henry    male  35.0      0   \n",
       "\n",
       "   Parch            Ticket     Fare Cabin Embarked  NEW_NAME_COUNT  \\\n",
       "0      0         A/5 21171   7.2500   NaN        S              23   \n",
       "1      0          PC 17599  71.2833   C85        C              51   \n",
       "2      0  STON/O2. 3101282   7.9250   NaN        S              22   \n",
       "3      0            113803  53.1000  C123        S              44   \n",
       "4      0            373450   8.0500   NaN        S              24   \n",
       "\n",
       "   NEW_NAME_WORD_COUNT  \n",
       "0                    4  \n",
       "1                    7  \n",
       "2                    3  \n",
       "3                    7  \n",
       "4                    4  "
      ]
     },
     "execution_count": 15,
     "metadata": {},
     "output_type": "execute_result"
    }
   ],
   "source": [
    "# Word Count -> Kelime\n",
    "df[\"NEW_NAME_WORD_COUNT\"] = df[\"Name\"].apply(lambda x: len(str(x).split(\" \")))\n",
    "df.head()"
   ]
  },
  {
   "cell_type": "code",
   "execution_count": 16,
   "id": "f281dab7",
   "metadata": {},
   "outputs": [],
   "source": [
    "# Özel Yapıları Yakalamak\n",
    "df[\"NEW_NAME_DR\"] = df[\"Name\"].apply(lambda x: len([x for x in x.split() if x.startswith(\"Dr\")]))"
   ]
  },
  {
   "cell_type": "code",
   "execution_count": 22,
   "id": "36a22915",
   "metadata": {
    "collapsed": true
   },
   "outputs": [
    {
     "data": {
      "text/html": [
       "<div>\n",
       "<style scoped>\n",
       "    .dataframe tbody tr th:only-of-type {\n",
       "        vertical-align: middle;\n",
       "    }\n",
       "\n",
       "    .dataframe tbody tr th {\n",
       "        vertical-align: top;\n",
       "    }\n",
       "\n",
       "    .dataframe thead tr th {\n",
       "        text-align: left;\n",
       "    }\n",
       "\n",
       "    .dataframe thead tr:last-of-type th {\n",
       "        text-align: right;\n",
       "    }\n",
       "</style>\n",
       "<table border=\"1\" class=\"dataframe\">\n",
       "  <thead>\n",
       "    <tr>\n",
       "      <th></th>\n",
       "      <th colspan=\"2\" halign=\"left\">Survived</th>\n",
       "    </tr>\n",
       "    <tr>\n",
       "      <th></th>\n",
       "      <th>mean</th>\n",
       "      <th>count</th>\n",
       "    </tr>\n",
       "    <tr>\n",
       "      <th>NEW_NAME_DR</th>\n",
       "      <th></th>\n",
       "      <th></th>\n",
       "    </tr>\n",
       "  </thead>\n",
       "  <tbody>\n",
       "    <tr>\n",
       "      <th>0</th>\n",
       "      <td>0.38252</td>\n",
       "      <td>881</td>\n",
       "    </tr>\n",
       "    <tr>\n",
       "      <th>1</th>\n",
       "      <td>0.50000</td>\n",
       "      <td>10</td>\n",
       "    </tr>\n",
       "  </tbody>\n",
       "</table>\n",
       "</div>"
      ],
      "text/plain": [
       "            Survived      \n",
       "                mean count\n",
       "NEW_NAME_DR               \n",
       "0            0.38252   881\n",
       "1            0.50000    10"
      ]
     },
     "execution_count": 22,
     "metadata": {},
     "output_type": "execute_result"
    }
   ],
   "source": [
    "# Doktor olanların hayatta kalma oranı\n",
    "df.groupby(\"NEW_NAME_DR\").agg({\"Survived\":[\"mean\",\"count\"]})"
   ]
  },
  {
   "cell_type": "code",
   "execution_count": 23,
   "id": "efa1f26b",
   "metadata": {},
   "outputs": [],
   "source": [
    "# ---------------------------------------------------------------- #"
   ]
  },
  {
   "cell_type": "code",
   "execution_count": 24,
   "id": "fa16c7ce",
   "metadata": {},
   "outputs": [],
   "source": [
    "# 3 - Regex ile Değişken Türetmek"
   ]
  },
  {
   "cell_type": "code",
   "execution_count": 25,
   "id": "d2f761d9",
   "metadata": {},
   "outputs": [],
   "source": [
    "df = load()"
   ]
  },
  {
   "cell_type": "code",
   "execution_count": 27,
   "id": "83758631",
   "metadata": {
    "collapsed": true
   },
   "outputs": [
    {
     "data": {
      "text/html": [
       "<div>\n",
       "<style scoped>\n",
       "    .dataframe tbody tr th:only-of-type {\n",
       "        vertical-align: middle;\n",
       "    }\n",
       "\n",
       "    .dataframe tbody tr th {\n",
       "        vertical-align: top;\n",
       "    }\n",
       "\n",
       "    .dataframe thead th {\n",
       "        text-align: right;\n",
       "    }\n",
       "</style>\n",
       "<table border=\"1\" class=\"dataframe\">\n",
       "  <thead>\n",
       "    <tr style=\"text-align: right;\">\n",
       "      <th></th>\n",
       "      <th>PassengerId</th>\n",
       "      <th>Survived</th>\n",
       "      <th>Pclass</th>\n",
       "      <th>Name</th>\n",
       "      <th>Sex</th>\n",
       "      <th>Age</th>\n",
       "      <th>SibSp</th>\n",
       "      <th>Parch</th>\n",
       "      <th>Ticket</th>\n",
       "      <th>Fare</th>\n",
       "      <th>Cabin</th>\n",
       "      <th>Embarked</th>\n",
       "      <th>NEW_TITLE</th>\n",
       "    </tr>\n",
       "  </thead>\n",
       "  <tbody>\n",
       "    <tr>\n",
       "      <th>0</th>\n",
       "      <td>1</td>\n",
       "      <td>0</td>\n",
       "      <td>3</td>\n",
       "      <td>Braund, Mr. Owen Harris</td>\n",
       "      <td>male</td>\n",
       "      <td>22.0</td>\n",
       "      <td>1</td>\n",
       "      <td>0</td>\n",
       "      <td>A/5 21171</td>\n",
       "      <td>7.2500</td>\n",
       "      <td>NaN</td>\n",
       "      <td>S</td>\n",
       "      <td>Mr</td>\n",
       "    </tr>\n",
       "    <tr>\n",
       "      <th>1</th>\n",
       "      <td>2</td>\n",
       "      <td>1</td>\n",
       "      <td>1</td>\n",
       "      <td>Cumings, Mrs. John Bradley (Florence Briggs Th...</td>\n",
       "      <td>female</td>\n",
       "      <td>38.0</td>\n",
       "      <td>1</td>\n",
       "      <td>0</td>\n",
       "      <td>PC 17599</td>\n",
       "      <td>71.2833</td>\n",
       "      <td>C85</td>\n",
       "      <td>C</td>\n",
       "      <td>Mrs</td>\n",
       "    </tr>\n",
       "    <tr>\n",
       "      <th>2</th>\n",
       "      <td>3</td>\n",
       "      <td>1</td>\n",
       "      <td>3</td>\n",
       "      <td>Heikkinen, Miss. Laina</td>\n",
       "      <td>female</td>\n",
       "      <td>26.0</td>\n",
       "      <td>0</td>\n",
       "      <td>0</td>\n",
       "      <td>STON/O2. 3101282</td>\n",
       "      <td>7.9250</td>\n",
       "      <td>NaN</td>\n",
       "      <td>S</td>\n",
       "      <td>Miss</td>\n",
       "    </tr>\n",
       "    <tr>\n",
       "      <th>3</th>\n",
       "      <td>4</td>\n",
       "      <td>1</td>\n",
       "      <td>1</td>\n",
       "      <td>Futrelle, Mrs. Jacques Heath (Lily May Peel)</td>\n",
       "      <td>female</td>\n",
       "      <td>35.0</td>\n",
       "      <td>1</td>\n",
       "      <td>0</td>\n",
       "      <td>113803</td>\n",
       "      <td>53.1000</td>\n",
       "      <td>C123</td>\n",
       "      <td>S</td>\n",
       "      <td>Mrs</td>\n",
       "    </tr>\n",
       "    <tr>\n",
       "      <th>4</th>\n",
       "      <td>5</td>\n",
       "      <td>0</td>\n",
       "      <td>3</td>\n",
       "      <td>Allen, Mr. William Henry</td>\n",
       "      <td>male</td>\n",
       "      <td>35.0</td>\n",
       "      <td>0</td>\n",
       "      <td>0</td>\n",
       "      <td>373450</td>\n",
       "      <td>8.0500</td>\n",
       "      <td>NaN</td>\n",
       "      <td>S</td>\n",
       "      <td>Mr</td>\n",
       "    </tr>\n",
       "  </tbody>\n",
       "</table>\n",
       "</div>"
      ],
      "text/plain": [
       "   PassengerId  Survived  Pclass  \\\n",
       "0            1         0       3   \n",
       "1            2         1       1   \n",
       "2            3         1       3   \n",
       "3            4         1       1   \n",
       "4            5         0       3   \n",
       "\n",
       "                                                Name     Sex   Age  SibSp  \\\n",
       "0                            Braund, Mr. Owen Harris    male  22.0      1   \n",
       "1  Cumings, Mrs. John Bradley (Florence Briggs Th...  female  38.0      1   \n",
       "2                             Heikkinen, Miss. Laina  female  26.0      0   \n",
       "3       Futrelle, Mrs. Jacques Heath (Lily May Peel)  female  35.0      1   \n",
       "4                           Allen, Mr. William Henry    male  35.0      0   \n",
       "\n",
       "   Parch            Ticket     Fare Cabin Embarked NEW_TITLE  \n",
       "0      0         A/5 21171   7.2500   NaN        S        Mr  \n",
       "1      0          PC 17599  71.2833   C85        C       Mrs  \n",
       "2      0  STON/O2. 3101282   7.9250   NaN        S      Miss  \n",
       "3      0            113803  53.1000  C123        S       Mrs  \n",
       "4      0            373450   8.0500   NaN        S        Mr  "
      ]
     },
     "execution_count": 27,
     "metadata": {},
     "output_type": "execute_result"
    }
   ],
   "source": [
    "df[\"NEW_TITLE\"] = df.Name.str.extract(\" ([A-Za-z]+)\\.\",expand=False)\n",
    "df.head()"
   ]
  },
  {
   "cell_type": "code",
   "execution_count": 28,
   "id": "6373aaf4",
   "metadata": {
    "collapsed": true
   },
   "outputs": [
    {
     "data": {
      "text/html": [
       "<div>\n",
       "<style scoped>\n",
       "    .dataframe tbody tr th:only-of-type {\n",
       "        vertical-align: middle;\n",
       "    }\n",
       "\n",
       "    .dataframe tbody tr th {\n",
       "        vertical-align: top;\n",
       "    }\n",
       "\n",
       "    .dataframe thead tr th {\n",
       "        text-align: left;\n",
       "    }\n",
       "\n",
       "    .dataframe thead tr:last-of-type th {\n",
       "        text-align: right;\n",
       "    }\n",
       "</style>\n",
       "<table border=\"1\" class=\"dataframe\">\n",
       "  <thead>\n",
       "    <tr>\n",
       "      <th></th>\n",
       "      <th>Survived</th>\n",
       "      <th colspan=\"2\" halign=\"left\">Age</th>\n",
       "    </tr>\n",
       "    <tr>\n",
       "      <th></th>\n",
       "      <th>mean</th>\n",
       "      <th>count</th>\n",
       "      <th>mean</th>\n",
       "    </tr>\n",
       "    <tr>\n",
       "      <th>NEW_TITLE</th>\n",
       "      <th></th>\n",
       "      <th></th>\n",
       "      <th></th>\n",
       "    </tr>\n",
       "  </thead>\n",
       "  <tbody>\n",
       "    <tr>\n",
       "      <th>Capt</th>\n",
       "      <td>0.000000</td>\n",
       "      <td>1</td>\n",
       "      <td>70.000000</td>\n",
       "    </tr>\n",
       "    <tr>\n",
       "      <th>Col</th>\n",
       "      <td>0.500000</td>\n",
       "      <td>2</td>\n",
       "      <td>58.000000</td>\n",
       "    </tr>\n",
       "    <tr>\n",
       "      <th>Countess</th>\n",
       "      <td>1.000000</td>\n",
       "      <td>1</td>\n",
       "      <td>33.000000</td>\n",
       "    </tr>\n",
       "    <tr>\n",
       "      <th>Don</th>\n",
       "      <td>0.000000</td>\n",
       "      <td>1</td>\n",
       "      <td>40.000000</td>\n",
       "    </tr>\n",
       "    <tr>\n",
       "      <th>Dr</th>\n",
       "      <td>0.428571</td>\n",
       "      <td>6</td>\n",
       "      <td>42.000000</td>\n",
       "    </tr>\n",
       "    <tr>\n",
       "      <th>Jonkheer</th>\n",
       "      <td>0.000000</td>\n",
       "      <td>1</td>\n",
       "      <td>38.000000</td>\n",
       "    </tr>\n",
       "    <tr>\n",
       "      <th>Lady</th>\n",
       "      <td>1.000000</td>\n",
       "      <td>1</td>\n",
       "      <td>48.000000</td>\n",
       "    </tr>\n",
       "    <tr>\n",
       "      <th>Major</th>\n",
       "      <td>0.500000</td>\n",
       "      <td>2</td>\n",
       "      <td>48.500000</td>\n",
       "    </tr>\n",
       "    <tr>\n",
       "      <th>Master</th>\n",
       "      <td>0.575000</td>\n",
       "      <td>36</td>\n",
       "      <td>4.574167</td>\n",
       "    </tr>\n",
       "    <tr>\n",
       "      <th>Miss</th>\n",
       "      <td>0.697802</td>\n",
       "      <td>146</td>\n",
       "      <td>21.773973</td>\n",
       "    </tr>\n",
       "    <tr>\n",
       "      <th>Mlle</th>\n",
       "      <td>1.000000</td>\n",
       "      <td>2</td>\n",
       "      <td>24.000000</td>\n",
       "    </tr>\n",
       "    <tr>\n",
       "      <th>Mme</th>\n",
       "      <td>1.000000</td>\n",
       "      <td>1</td>\n",
       "      <td>24.000000</td>\n",
       "    </tr>\n",
       "    <tr>\n",
       "      <th>Mr</th>\n",
       "      <td>0.156673</td>\n",
       "      <td>398</td>\n",
       "      <td>32.368090</td>\n",
       "    </tr>\n",
       "    <tr>\n",
       "      <th>Mrs</th>\n",
       "      <td>0.792000</td>\n",
       "      <td>108</td>\n",
       "      <td>35.898148</td>\n",
       "    </tr>\n",
       "    <tr>\n",
       "      <th>Ms</th>\n",
       "      <td>1.000000</td>\n",
       "      <td>1</td>\n",
       "      <td>28.000000</td>\n",
       "    </tr>\n",
       "    <tr>\n",
       "      <th>Rev</th>\n",
       "      <td>0.000000</td>\n",
       "      <td>6</td>\n",
       "      <td>43.166667</td>\n",
       "    </tr>\n",
       "    <tr>\n",
       "      <th>Sir</th>\n",
       "      <td>1.000000</td>\n",
       "      <td>1</td>\n",
       "      <td>49.000000</td>\n",
       "    </tr>\n",
       "  </tbody>\n",
       "</table>\n",
       "</div>"
      ],
      "text/plain": [
       "           Survived   Age           \n",
       "               mean count       mean\n",
       "NEW_TITLE                           \n",
       "Capt       0.000000     1  70.000000\n",
       "Col        0.500000     2  58.000000\n",
       "Countess   1.000000     1  33.000000\n",
       "Don        0.000000     1  40.000000\n",
       "Dr         0.428571     6  42.000000\n",
       "Jonkheer   0.000000     1  38.000000\n",
       "Lady       1.000000     1  48.000000\n",
       "Major      0.500000     2  48.500000\n",
       "Master     0.575000    36   4.574167\n",
       "Miss       0.697802   146  21.773973\n",
       "Mlle       1.000000     2  24.000000\n",
       "Mme        1.000000     1  24.000000\n",
       "Mr         0.156673   398  32.368090\n",
       "Mrs        0.792000   108  35.898148\n",
       "Ms         1.000000     1  28.000000\n",
       "Rev        0.000000     6  43.166667\n",
       "Sir        1.000000     1  49.000000"
      ]
     },
     "execution_count": 28,
     "metadata": {},
     "output_type": "execute_result"
    }
   ],
   "source": [
    "df[[\"NEW_TITLE\",\"Survived\",\"Age\"]].groupby([\"NEW_TITLE\"]).agg({\"Survived\":\"mean\",\"Age\":[\"count\",\"mean\"]})"
   ]
  },
  {
   "cell_type": "code",
   "execution_count": 29,
   "id": "1cf5a2ee",
   "metadata": {},
   "outputs": [],
   "source": [
    "# ---------------------------------------------------------------- #"
   ]
  },
  {
   "cell_type": "code",
   "execution_count": 39,
   "id": "88620693",
   "metadata": {
    "collapsed": true
   },
   "outputs": [
    {
     "name": "stdout",
     "output_type": "stream",
     "text": [
      "<class 'pandas.core.frame.DataFrame'>\n",
      "RangeIndex: 4323 entries, 0 to 4322\n",
      "Data columns (total 6 columns):\n",
      " #   Column              Non-Null Count  Dtype  \n",
      "---  ------              --------------  -----  \n",
      " 0   Rating              4323 non-null   float64\n",
      " 1   Timestamp           4323 non-null   object \n",
      " 2   Enrolled            4323 non-null   object \n",
      " 3   Progress            4323 non-null   float64\n",
      " 4   Questions Asked     4323 non-null   float64\n",
      " 5   Questions Answered  4323 non-null   float64\n",
      "dtypes: float64(4), object(2)\n",
      "memory usage: 202.8+ KB\n"
     ]
    }
   ],
   "source": [
    "# Date Değişkenleri Üretmek\n",
    "from datetime import date\n",
    "\n",
    "dff = pd.read_csv(\"course_reviews.csv\")\n",
    "dff.head()\n",
    "dff.info()"
   ]
  },
  {
   "cell_type": "code",
   "execution_count": 40,
   "id": "259a0ec4",
   "metadata": {},
   "outputs": [],
   "source": [
    "dff[\"Timestamp\"] = pd.to_datetime(dff[\"Timestamp\"], format=\"%Y-%m-%d\")"
   ]
  },
  {
   "cell_type": "code",
   "execution_count": 41,
   "id": "c4e881d5",
   "metadata": {},
   "outputs": [],
   "source": [
    "# Yıl\n",
    "dff[\"year\"] = dff[\"Timestamp\"].dt.year\n",
    "# Ay\n",
    "dff[\"month\"] = dff[\"Timestamp\"].dt.month"
   ]
  },
  {
   "cell_type": "code",
   "execution_count": 46,
   "id": "29c14a86",
   "metadata": {},
   "outputs": [],
   "source": [
    "# Yıl farkı\n",
    "dff[\"year_diff\"] = date.today().year - dff[\"Timestamp\"].dt.year"
   ]
  },
  {
   "cell_type": "code",
   "execution_count": 57,
   "id": "f22b500c",
   "metadata": {},
   "outputs": [],
   "source": [
    "# month diff > iki tarih arasındaki ay farkı -> yıl farkı + ay farkı\n",
    "dff[\"month_diff\"] = (date.today().year - dff[\"Timestamp\"].dt.year) * 12 + date.today().month - dff[\"Timestamp\"].dt.month\n"
   ]
  },
  {
   "cell_type": "code",
   "execution_count": 60,
   "id": "62010231",
   "metadata": {},
   "outputs": [],
   "source": [
    "dff[\"day_name\"] = dff[\"Timestamp\"].dt.day_name()"
   ]
  },
  {
   "cell_type": "code",
   "execution_count": null,
   "id": "304ac802",
   "metadata": {},
   "outputs": [],
   "source": [
    "# ---------------------------------------------------------------- #"
   ]
  },
  {
   "cell_type": "code",
   "execution_count": 62,
   "id": "4a08676b",
   "metadata": {},
   "outputs": [],
   "source": [
    "# 4 - Özellik Etkileşimleri ( Feature Interaction )"
   ]
  },
  {
   "cell_type": "code",
   "execution_count": 64,
   "id": "e630cff5",
   "metadata": {},
   "outputs": [],
   "source": [
    "df = load()"
   ]
  },
  {
   "cell_type": "code",
   "execution_count": 67,
   "id": "476f389a",
   "metadata": {},
   "outputs": [],
   "source": [
    "# Hangi yaşta hangi koltukta uçuyor\n",
    "df[\"NEW_AGE_PCLASS\"] = df[\"Age\"] * df[\"Pclass\"]"
   ]
  },
  {
   "cell_type": "code",
   "execution_count": 69,
   "id": "9b18fb6d",
   "metadata": {},
   "outputs": [],
   "source": [
    "# Akrabalık sayıları ile ilgili iki değişkenin toplamı + kişinin kendisi -> Aile boyutu\n",
    "df[\"NEW_FAMILY_SIZE\"] = df[\"SibSp\"] * df[\"Parch\"] + 1"
   ]
  },
  {
   "cell_type": "code",
   "execution_count": 82,
   "id": "8828d2d0",
   "metadata": {},
   "outputs": [],
   "source": [
    "# Yaşı 21 den küçük erkekleri bul -> youngmale yaz ve yeni değişkene at\n",
    "df.loc[(df[\"Sex\"]==\"male\") & (df[\"Age\"] <= 21), \"NEW_SEX_CAT\"] = \"youngmale\"\n",
    "\n",
    "# Ortada kalan kısıma mature male dedik.\n",
    "df.loc[(df[\"Sex\"]==\"male\") & ((df[\"Age\"] > 21) & (df[\"Age\"]) <= 50), \"NEW_SEX_CAT\"] = \"maturemale\"\n",
    "\n",
    "# Daha büyükleri\n",
    "df.loc[(df[\"Sex\"]==\"male\") & (df[\"Age\"] > 50), \"NEW_SEX_CAT\"] = \"seniormale\"\n",
    "\n",
    "# Yaşı 21 den küçük kadın bul -> youngmale yaz ve yeni değişkene at\n",
    "df.loc[(df[\"Sex\"]==\"female\") & (df[\"Age\"] <= 21), \"NEW_SEX_CAT\"] = \"youngfemale\"\n",
    "\n",
    "# Ortada kalan kısıma mature male dedik.\n",
    "df.loc[(df[\"Sex\"]==\"female\") & ((df[\"Age\"] > 21) & (df[\"Age\"]) <= 50), \"NEW_SEX_CAT\"] = \"maturefemale\"\n",
    "\n",
    "# Daha büyükleri\n",
    "df.loc[(df[\"Sex\"]==\"female\") & (df[\"Age\"] > 50), \"NEW_SEX_CAT\"] = \"seniorfemale\""
   ]
  },
  {
   "cell_type": "code",
   "execution_count": 84,
   "id": "fadf5160",
   "metadata": {
    "collapsed": true
   },
   "outputs": [
    {
     "data": {
      "text/plain": [
       "NEW_SEX_CAT\n",
       "maturefemale    0.730640\n",
       "maturemale      0.194340\n",
       "seniorfemale    0.941176\n",
       "seniormale      0.127660\n",
       "Name: Survived, dtype: float64"
      ]
     },
     "execution_count": 84,
     "metadata": {},
     "output_type": "execute_result"
    }
   ],
   "source": [
    "df.groupby(\"NEW_SEX_CAT\")[\"Survived\"].mean()"
   ]
  }
 ],
 "metadata": {
  "kernelspec": {
   "display_name": "Python 3 (ipykernel)",
   "language": "python",
   "name": "python3"
  },
  "language_info": {
   "codemirror_mode": {
    "name": "ipython",
    "version": 3
   },
   "file_extension": ".py",
   "mimetype": "text/x-python",
   "name": "python",
   "nbconvert_exporter": "python",
   "pygments_lexer": "ipython3",
   "version": "3.10.9"
  }
 },
 "nbformat": 4,
 "nbformat_minor": 5
}
