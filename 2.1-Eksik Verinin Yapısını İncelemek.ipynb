{
 "cells": [
  {
   "cell_type": "code",
   "execution_count": 7,
   "id": "4f209cb4",
   "metadata": {},
   "outputs": [],
   "source": [
    "# Gelişmiş Analizler\n",
    "# Eksik Değerlerin Bağımlı Değişken ile İlişkisinin İncelenmesi\n",
    "\n",
    "import numpy as np\n",
    "import pandas as pd\n",
    "import seaborn as sns\n",
    "import matplotlib.pyplot as plt\n",
    "#!pip install missingno\n",
    "#import missingno as msno\n",
    "from datetime import date\n",
    "from sklearn.metrics import accuracy_score\n",
    "from sklearn.model_selection import train_test_split\n",
    "from sklearn.neighbors import LocalOutlierFactor\n",
    "from sklearn.preprocessing import MinMaxScaler, LabelEncoder,StandardScaler,RobustScaler"
   ]
  },
  {
   "cell_type": "code",
   "execution_count": 8,
   "id": "09c796a1",
   "metadata": {},
   "outputs": [],
   "source": [
    "def load():\n",
    "    data = pd.read_csv(\"titanic.csv\")\n",
    "    return data\n",
    "\n",
    "df = load()\n",
    "\n",
    "def missing_values_table(df,na_name=False):\n",
    "    na_columns = [col for col in df.columns if df[col].isnull().sum()>0] # Eksik değerleri seçtik\n",
    "    \n",
    "    n_miss = df[na_columns].isnull().sum().sort_values(ascending=False) # Sırala\n",
    "    \n",
    "    ratio = (df[na_columns].isnull().sum() / df.shape[0] * 100).sort_values(ascending=False) # Oran\n",
    "    \n",
    "    missing_df = pd.concat([n_miss, np.round(ratio,2)], axis=1, keys=[\"n_miss\",\"ratio\"]) # missing_df adında bir df'de birleştir\n",
    "    \n",
    "    print(missing_df,end=\"\\n\")\n",
    "    \n",
    "    if na_name: # İsimleri ver \n",
    "        return na_columns"
   ]
  },
  {
   "cell_type": "code",
   "execution_count": 9,
   "id": "7e3c9b2b",
   "metadata": {},
   "outputs": [
    {
     "name": "stdout",
     "output_type": "stream",
     "text": [
      "          n_miss  ratio\n",
      "Cabin        687  77.10\n",
      "Age          177  19.87\n",
      "Embarked       2   0.22\n"
     ]
    }
   ],
   "source": [
    "na_cols = missing_values_table(df,True)"
   ]
  },
  {
   "cell_type": "code",
   "execution_count": 13,
   "id": "709b552e",
   "metadata": {},
   "outputs": [],
   "source": [
    "def missing_vs_target(df,target,na_columns):\n",
    "    temp_df = df.copy()\n",
    "    for col in na_columns:\n",
    "        temp_df[col+\"_NA_FLAG\"] = np.where(temp_df[col].isnull(),1,0) # -> n/a'ya sahip sutünlarda gez ve kopyaya ekle \n",
    "                                                                      # Eksiklik gördüğün yere 1 diğerine 0 yaz.\n",
    "    \n",
    "    na_flags = temp_df.loc[:,temp_df.columns.str.contains(\"_NA_\")].columns\n",
    "    # İçinde NA ifadesi olan sutünları getir\n",
    "    \n",
    "    for col in na_flags:\n",
    "        print(pd.DataFrame({\"TARGET_MEAN\" : temp_df.groupby(col)[target].mean(),\n",
    "                           \"Count\": temp_df.groupby(col)[target].count()}), end=\"\\n\\n\\n\")\n",
    "        # Target'a göre ortalama al\n",
    "        # Target'a göre toplam getir"
   ]
  },
  {
   "cell_type": "code",
   "execution_count": 14,
   "id": "bd725cb7",
   "metadata": {
    "collapsed": true
   },
   "outputs": [
    {
     "name": "stdout",
     "output_type": "stream",
     "text": [
      "             TARGET_MEAN  Count\n",
      "Age_NA_FLAG                    \n",
      "0               0.406162    714\n",
      "1               0.293785    177\n",
      "\n",
      "\n",
      "               TARGET_MEAN  Count\n",
      "Cabin_NA_FLAG                    \n",
      "0                 0.666667    204\n",
      "1                 0.299854    687\n",
      "\n",
      "\n",
      "                  TARGET_MEAN  Count\n",
      "Embarked_NA_FLAG                    \n",
      "0                    0.382452    889\n",
      "1                    1.000000      2\n",
      "\n",
      "\n"
     ]
    }
   ],
   "source": [
    "# Karşılaştırma Yapıyoruz. Birbiri ile ilişkisi var mı?\n",
    "missing_vs_target(df,\"Survived\",na_cols)"
   ]
  }
 ],
 "metadata": {
  "kernelspec": {
   "display_name": "Python 3 (ipykernel)",
   "language": "python",
   "name": "python3"
  },
  "language_info": {
   "codemirror_mode": {
    "name": "ipython",
    "version": 3
   },
   "file_extension": ".py",
   "mimetype": "text/x-python",
   "name": "python",
   "nbconvert_exporter": "python",
   "pygments_lexer": "ipython3",
   "version": "3.10.9"
  }
 },
 "nbformat": 4,
 "nbformat_minor": 5
}
